{
 "cells": [
  {
   "cell_type": "code",
   "execution_count": 1,
   "id": "dba4c38f",
   "metadata": {},
   "outputs": [],
   "source": [
    "#Import de librerías necesarias\n",
    "import pyreadr\n",
    "import matplotlib.pyplot as plt\n",
    "from matplotlib.widgets import Cursor\n",
    "import numpy as np\n",
    "import pandas as pd\n",
    "from datetime import datetime, timedelta, date\n",
    "from sklearn import *\n",
    "from sklearn.model_selection import *\n",
    "from sklearn.preprocessing import StandardScaler\n",
    "from sklearn.linear_model import LogisticRegression\n",
    "from sklearn.metrics import accuracy_score\n",
    "import random\n",
    "import time\n",
    "import pandas as pd\n",
    "from scipy.stats import chi2\n",
    "from scipy.stats import chi2_contingency\n",
    "import scipy.stats as stats\n",
    "from sklearn.metrics import *\n",
    "import seaborn as sns\n",
    "import matplotlib.pyplot as plt\n",
    "import statsmodels.api as sm\n",
    "from sklearn.model_selection import GridSearchCV\n",
    "from sklearn.metrics import roc_auc_score\n",
    "from sklearn.metrics import classification_report\n",
    "from scipy.stats import mannwhitneyu\n",
    "from sklearn.experimental import enable_iterative_imputer\n",
    "from sklearn.impute import IterativeImputer\n",
    "from collections import defaultdict"
   ]
  },
  {
   "cell_type": "code",
   "execution_count": 2,
   "id": "51e68ee4",
   "metadata": {},
   "outputs": [],
   "source": [
    "#Importar los datos de R a Python\n",
    "datos = pyreadr.read_r('area_desbalance_ionico.RData')\n",
    "\n",
    "#Para comprobar que se importan correctamente los datos\n",
    "#print(datos.keys())\n",
    "\n",
    "#Este archivo tiene tres variables\n",
    "\n",
    "#datos_anon_D: datos extraídos de los ECGS - edad, sexo, fecha, hora y \n",
    "#nombre del fichero. Hay un código (código) que identifica a cada paciente\n",
    "datos_anon_DF = datos['datos_anon_DF']\n",
    "\n",
    "#lead_anon_DF\n",
    "#variables electrocardiográficas correspondiente a los ECGs de la variable anterior\n",
    "leads_anon_DF = datos['leads_anon_DF']\n",
    "\n",
    "#pacs_con_ECGs_DF\n",
    "#variables de los datos del potasio, fecha de la analítica, edad del paciente, sexo\n",
    "#nivel de K y código del paciente\n",
    "pacs_con_ECGs_DF = datos['pacs_con_ECGs_DF']"
   ]
  },
  {
   "cell_type": "markdown",
   "id": "9dde6a01",
   "metadata": {},
   "source": [
    "# Normalidad - Hiperpotasemia - Hipopotasemia"
   ]
  },
  {
   "cell_type": "code",
   "execution_count": 3,
   "id": "190d4314",
   "metadata": {},
   "outputs": [],
   "source": [
    "#Primer paso: coger solo los valores de K normales y de hiperpotasemia\n",
    "k_val = pacs_con_ECGs_DF.copy()\n",
    "\n",
    "limites = [float('-inf'), 3.5, 5.2, float('inf')]\n",
    "etiquetas = [1, 0, 2]"
   ]
  },
  {
   "cell_type": "code",
   "execution_count": 4,
   "id": "1a819240",
   "metadata": {},
   "outputs": [],
   "source": [
    "k_valores = k_val.copy()\n",
    "\n",
    "k_valores['categoria'] = pd.cut(k_valores['K'], bins=limites, labels=etiquetas, right=False)\n",
    "\n",
    "#Se reemplazan los sexos por enteros\n",
    "#1: Hombre\n",
    "#0: Mujer\n",
    "k_valores['Sexo'] = k_valores['Sexo'].replace({'M': 1, 'F': 0})"
   ]
  },
  {
   "cell_type": "code",
   "execution_count": 5,
   "id": "8e9c45e6",
   "metadata": {},
   "outputs": [],
   "source": [
    "limites = [0, 30, 50, 70, 90, 110]\n",
    "etiquetas = ['10-30', '31-50', '51-70', '71-90', '91-110']\n",
    "k_valores['GrupoEdad'] = pd.cut(k_valores['Edad'], bins=limites, labels=etiquetas, right=False)"
   ]
  },
  {
   "cell_type": "markdown",
   "id": "fb192f44",
   "metadata": {},
   "source": [
    "# Eliminación de variables con datos vacíos"
   ]
  },
  {
   "cell_type": "code",
   "execution_count": 6,
   "id": "5059f3d5",
   "metadata": {
    "scrolled": true
   },
   "outputs": [],
   "source": [
    "#En leads_anon_DF, se van a eliminar aquellas columnas en las que falte más del 1% de los datos\n",
    "\n",
    "#El como máximo (el 100%) de datos que podría tener cada característica, sería igual al número total de filas que\n",
    "#hay registradas\n",
    "#Se calcula el 10% y se redondea sin decimales\n",
    "diez_pct_datos = round(len(leads_anon_DF) * 0.01, 0)\n",
    "\n",
    "#Ahora, se va a coger un subconjunto del dataframe en el que se eliminan las\n",
    "#características cuyo número de datos sea menor al 10%\n",
    "\n",
    "#Se cuenta el número de NaN o celdas sin datos en cada columna\n",
    "celdas_sin_datos = leads_anon_DF.isnull().sum()\n",
    "\n",
    "#Se cogen las características cuyo número de datos vacíos es mayor o igual al 10%\n",
    "caracteristicas_eliminar = celdas_sin_datos[celdas_sin_datos >= diez_pct_datos].index\n",
    "\n",
    "#Se crear el subDataFrame eliminando las columnas correspondientes\n",
    "leads_anon_DF_limpio = leads_anon_DF.drop(columns = caracteristicas_eliminar)"
   ]
  },
  {
   "cell_type": "code",
   "execution_count": 7,
   "id": "e82f7dec",
   "metadata": {},
   "outputs": [],
   "source": [
    "#Ahora hay que asociar a cada análisis de sangre, su ECG más cercano\n",
    "def ECG_mas_reciente(fecha, codigo):\n",
    "     \n",
    "    archivos_ECGs = datos_anon_DF.loc[(datos_anon_DF['codigo'] == codigo) & (datos_anon_DF['date'] >= (fecha - timedelta(days=5))) & (datos_anon_DF['date'] <= (fecha + timedelta(days=5)))]    \n",
    "    \n",
    "    fechas_archivos = archivos_ECGs['date']\n",
    "    horas_archivos = archivos_ECGs['time']\n",
    "        \n",
    "    diferencia_temporal = [abs(fecha - fecha_archivo) for fecha_archivo in fechas_archivos]\n",
    "    \n",
    "    ecg = (datos_anon_DF.index[(datos_anon_DF['codigo'] == codigo) & (datos_anon_DF['date'] >= (fecha - timedelta(days=5))) & (datos_anon_DF['date'] <= (fecha + timedelta(days=5)))]).tolist()\n",
    "    \n",
    "    if(len(diferencia_temporal) > 0):\n",
    "    \n",
    "        combinado = list(zip(diferencia_temporal, ecg))\n",
    "        combinado = sorted(combinado, key=lambda x: x[0])\n",
    "\n",
    "        diferencia_temporal, ecg = zip(*combinado)\n",
    "        \n",
    "    return ecg, diferencia_temporal"
   ]
  },
  {
   "cell_type": "code",
   "execution_count": 8,
   "id": "4d442423",
   "metadata": {},
   "outputs": [],
   "source": [
    "#Ahora, se añade la columna \"Categoria\" y \"Sexo\" a leads_anon_DF_limpio\n",
    "#Se crean esas columnas en el nuevo dataframe con valores a Nan\n",
    "leads_anon_DF_limpio['Sexo'] = float('NaN')\n",
    "leads_anon_DF_limpio['categoria'] = float('NaN')\n",
    "leads_anon_DF_limpio['K'] = float('NaN')\n",
    "leads_anon_DF_limpio['Edad'] = float('NaN')\n",
    "leads_anon_DF_limpio['GrupoEdad'] = float('NaN')\n",
    "\n",
    "ecgs_utilizadas = {} \n",
    "\n",
    "for i in range(len(k_valores)):\n",
    "    fecha_hora = (k_valores['Fecha'].iloc[i]).to_pydatetime()\n",
    "    fecha = fecha_hora.date()\n",
    "    \n",
    "    indice, dist_temporal = ECG_mas_reciente(fecha, k_valores['codigo'].iloc[i])\n",
    "  \n",
    "    for j in range(len(indice)):\n",
    "        #Si el ECGs no tiene una analítica asignada, se le pone\n",
    "        if indice[j] not in ecgs_utilizadas:\n",
    "            #Se actualizan los valores de las columnas \"Sexo\" y \"Categoría\"\n",
    "            #de la fila correspondiente\n",
    "            leads_anon_DF_limpio.at[indice[j], 'Sexo'] = k_valores['Sexo'].iloc[i]\n",
    "            leads_anon_DF_limpio.at[indice[j], 'Edad'] = k_valores['Edad'].iloc[i]\n",
    "            leads_anon_DF_limpio.at[indice[j], 'GrupoEdad'] = k_valores['GrupoEdad'].iloc[i]\n",
    "            leads_anon_DF_limpio.at[indice[j], 'categoria'] = k_valores['categoria'].iloc[i]\n",
    "            leads_anon_DF_limpio.at[indice[j], 'K'] = k_valores['K'].iloc[i]\n",
    "\n",
    "            ecgs_utilizadas[indice[j]] = [k_valores['categoria'].iloc[i], dist_temporal[j].days]\n",
    "\n",
    "        #Si el ECG ya tiene una analítica asociada, si la nueva analítica tiene un valor\n",
    "        #de categoría diferente y se asocia con una anormalidad, se cambia\n",
    "        else:\n",
    "            if((dist_temporal[j].days < ecgs_utilizadas[indice[j]][1])):\n",
    "                leads_anon_DF_limpio.at[indice[j], 'categoria'] = k_valores['categoria'].iloc[i]\n",
    "                leads_anon_DF_limpio.at[indice[j], 'K'] = k_valores['K'].iloc[i]\n",
    "                ecgs_utilizadas[indice[j]][1] = dist_temporal[j].days\n",
    "                \n",
    "            if((dist_temporal[j].days == ecgs_utilizadas[indice[j]][1]) & (k_valores['categoria'].iloc[i] > ecgs_utilizadas[indice[j]][0])):\n",
    "                leads_anon_DF_limpio.at[indice[j], 'categoria'] = k_valores['categoria'].iloc[i]\n",
    "                leads_anon_DF_limpio.at[indice[j], 'K'] = k_valores['K'].iloc[i]\n",
    "                ecgs_utilizadas[indice[j]][1] = dist_temporal[j].days                \n",
    "            \n",
    "#Se eliminan las filas que tengan la variable objetivo \"categoria\" a NaN\n",
    "leads_anon_DF_limpio = leads_anon_DF_limpio.dropna(subset=['categoria'])"
   ]
  },
  {
   "cell_type": "markdown",
   "id": "7f96be93",
   "metadata": {},
   "source": [
    "# CARGA DE DATOS FINALIZADA"
   ]
  },
  {
   "cell_type": "code",
   "execution_count": 147,
   "id": "c4238364",
   "metadata": {},
   "outputs": [
    {
     "name": "stdout",
     "output_type": "stream",
     "text": [
      "Analíticas normalidad: 1763\n",
      "Analíticas hipopotasemia: 260\n",
      "Analíticas hiperpotasemia: 750\n",
      "Analíticas normalidad: 1544\n",
      "Analíticas hipopotasemia: 189\n",
      "Analíticas hiperpotasemia: 750\n"
     ]
    }
   ],
   "source": [
    "print(f'Analíticas normalidad: {(k_valores[\"categoria\"] == 0).sum()}')\n",
    "print(f'Analíticas hipopotasemia: {(k_valores[\"categoria\"] == 1).sum()}')\n",
    "print(f'Analíticas hiperpotasemia: {(leads_anon_DF_limpio[\"categoria\"] == 2).sum()}')\n",
    "print(f'Analíticas normalidad: {(leads_anon_DF_limpio[\"categoria\"] == 0).sum()}')\n",
    "print(f'Analíticas hipopotasemia: {(leads_anon_DF_limpio[\"categoria\"] == 1).sum()}')\n",
    "print(f'Analíticas hiperpotasemia: {(leads_anon_DF_limpio[\"categoria\"] == 2).sum()}')"
   ]
  },
  {
   "cell_type": "markdown",
   "id": "4abb6f78",
   "metadata": {},
   "source": [
    "# Eliminación de características anormales"
   ]
  },
  {
   "cell_type": "code",
   "execution_count": 113,
   "id": "de4b7435",
   "metadata": {},
   "outputs": [
    {
     "name": "stdout",
     "output_type": "stream",
     "text": [
      "Media de datos a 0 en las caracteristicas raras: 83.01%\n"
     ]
    }
   ],
   "source": [
    "pct_datos = round(len(leads_anon_DF_limpio) * 0.3, 0)\n",
    "\n",
    "#Ahora, se va a coger un subconjunto del dataframe en el que se eliminan las\n",
    "#características cuyo número de datos sea menor al 10%\n",
    "\n",
    "#Se cuenta el número de NaN o celdas sin datos en cada columna\n",
    "celdas_sin_datos = leads_anon_DF_limpio.eq(0).sum()\n",
    "\n",
    "#Se cogen las características cuyo número de datos vacíos es mayor o igual al 10%\n",
    "caracteristicas_eliminar = celdas_sin_datos[celdas_sin_datos >= pct_datos].index\n",
    "\n",
    "car_raras = leads_anon_DF_limpio[caracteristicas_eliminar]\n",
    "car_rars_norm = car_raras[car_raras['categoria'] == 0] \n",
    "car_rars_hipo = car_raras[car_raras['categoria'] == 1] \n",
    "car_rars_hiper = car_raras[car_raras['categoria'] == 2] \n",
    "(car_rars_norm != 0).sum().to_excel('car_rars_norm.xlsx', index=True)\n",
    "(car_rars_hipo != 0).sum().to_excel('car_rars_hipo.xlsx', index=True)\n",
    "(car_rars_hiper != 0).sum().to_excel('car_rars_hiper.xlsx', index=True)\n",
    "\n",
    "media = round(np.mean((car_raras.eq(0).sum()) / len(car_raras) * 100), 2)\n",
    "print(f'Media de datos a 0 en las caracteristicas raras: {media}%')"
   ]
  },
  {
   "cell_type": "code",
   "execution_count": 75,
   "id": "63ea86d9",
   "metadata": {},
   "outputs": [
    {
     "name": "stdout",
     "output_type": "stream",
     "text": [
      "---------------------------------\n",
      "II_ppamp - Hipo\n",
      "II_ppamp      0    1\n",
      "categoria           \n",
      "0.0        1349  195\n",
      "1.0         175   14\n",
      "Estadístico de chi cuadrado: 3.8514374060995196\n",
      "Valor p: 0.049703377366694876\n",
      "---------------------------------\n",
      " \n",
      "II_ppamp - Hiper\n",
      "II_ppamp      0    1\n",
      "categoria           \n",
      "0.0        1349  195\n",
      "2.0         636  103\n",
      "Estadístico de chi cuadrado: 0.6428097376632359\n",
      "Valor p: 0.4226951781535875\n",
      "---------------------------------\n",
      " \n",
      "---------------------------------\n",
      "II_rpamp - Hipo\n",
      "II_rpamp      0   1\n",
      "categoria          \n",
      "0.0        1511  33\n",
      "1.0         182   7\n",
      "Estadístico de chi cuadrado: 1.203460142300485\n",
      "Valor p: 0.2726312025132292\n",
      "---------------------------------\n",
      " \n",
      "II_rpamp - Hiper\n",
      "II_rpamp      0   1\n",
      "categoria          \n",
      "0.0        1511  33\n",
      "2.0         722  17\n",
      "Estadístico de chi cuadrado: 0.009277202711106814\n",
      "Valor p: 0.9232678276738733\n",
      "---------------------------------\n",
      " \n",
      "---------------------------------\n",
      "II_spamp - Hipo\n",
      "II_spamp      0   1\n",
      "categoria          \n",
      "0.0        1533  11\n",
      "1.0         188   1\n",
      "Estadístico de chi cuadrado: 0.0\n",
      "Valor p: 1.0\n",
      "---------------------------------\n",
      " \n",
      "II_spamp - Hiper\n",
      "II_spamp      0   1\n",
      "categoria          \n",
      "0.0        1533  11\n",
      "2.0         734   5\n",
      "Estadístico de chi cuadrado: 0.0\n",
      "Valor p: 1.0\n",
      "---------------------------------\n",
      " \n",
      "---------------------------------\n",
      "II_tpamp - Hipo\n",
      "II_tpamp      0   1\n",
      "categoria          \n",
      "0.0        1481  63\n",
      "1.0         179  10\n",
      "Estadístico de chi cuadrado: 0.34845098010452863\n",
      "Valor p: 0.5549913050956108\n",
      "---------------------------------\n",
      " \n",
      "II_tpamp - Hiper\n",
      "II_tpamp      0   1\n",
      "categoria          \n",
      "0.0        1481  63\n",
      "2.0         711  28\n",
      "Estadístico de chi cuadrado: 0.047823199418780625\n",
      "Valor p: 0.8268953094217375\n",
      "---------------------------------\n",
      " \n",
      "---------------------------------\n",
      "II_pparea - Hipo\n",
      "II_pparea     0    1\n",
      "categoria           \n",
      "0.0        1352  192\n",
      "1.0         176   13\n",
      "Estadístico de chi cuadrado: 4.466843261197454\n",
      "Valor p: 0.03455878365736814\n",
      "---------------------------------\n",
      " \n",
      "II_pparea - Hiper\n",
      "II_pparea     0    1\n",
      "categoria           \n",
      "0.0        1352  192\n",
      "2.0         640   99\n",
      "Estadístico de chi cuadrado: 0.3332955928130238\n",
      "Valor p: 0.5637249372526854\n",
      "---------------------------------\n",
      " \n",
      "---------------------------------\n",
      "II_tparea - Hipo\n",
      "II_tparea     0   1\n",
      "categoria          \n",
      "0.0        1481  63\n",
      "1.0         179  10\n",
      "Estadístico de chi cuadrado: 0.34845098010452863\n",
      "Valor p: 0.5549913050956108\n",
      "---------------------------------\n",
      " \n",
      "II_tparea - Hiper\n",
      "II_tparea     0   1\n",
      "categoria          \n",
      "0.0        1481  63\n",
      "2.0         711  28\n",
      "Estadístico de chi cuadrado: 0.047823199418780625\n",
      "Valor p: 0.8268953094217375\n",
      "---------------------------------\n",
      " \n",
      "---------------------------------\n",
      "II_rpdur - Hipo\n",
      "II_rpdur      0   1\n",
      "categoria          \n",
      "0.0        1509  33\n",
      "1.0         182   7\n",
      "Estadístico de chi cuadrado: 1.1966111260450127\n",
      "Valor p: 0.274000058540626\n",
      "---------------------------------\n",
      " \n",
      "II_rpdur - Hiper\n",
      "II_rpdur      0   1\n",
      "categoria          \n",
      "0.0        1509  33\n",
      "2.0         722  17\n",
      "Estadístico de chi cuadrado: 0.00845683742377462\n",
      "Valor p: 0.9267289743170233\n",
      "---------------------------------\n",
      " \n",
      "---------------------------------\n",
      "II_spdur - Hipo\n",
      "II_spdur      0   1\n",
      "categoria          \n",
      "0.0        1531  11\n",
      "1.0         188   1\n",
      "Estadístico de chi cuadrado: 0.0\n",
      "Valor p: 1.0\n",
      "---------------------------------\n",
      " \n",
      "II_spdur - Hiper\n",
      "II_spdur      0   1\n",
      "categoria          \n",
      "0.0        1531  11\n",
      "2.0         734   5\n",
      "Estadístico de chi cuadrado: 0.0\n",
      "Valor p: 1.0\n",
      "---------------------------------\n",
      " \n",
      "---------------------------------\n",
      "II_tpdur - Hipo\n",
      "II_tpdur      0   1\n",
      "categoria          \n",
      "0.0        1477  63\n",
      "1.0         178  10\n",
      "Estadístico de chi cuadrado: 0.3580093927105581\n",
      "Valor p: 0.5496138515665157\n",
      "---------------------------------\n",
      " \n",
      "II_tpdur - Hiper\n",
      "II_tpdur      0   1\n",
      "categoria          \n",
      "0.0        1477  63\n",
      "2.0         710  28\n",
      "Estadístico de chi cuadrado: 0.05030851715370149\n",
      "Valor p: 0.8225272980005779\n",
      "---------------------------------\n",
      " \n"
     ]
    }
   ],
   "source": [
    "cars = ['II_ppamp', 'II_rpamp', 'II_spamp', 'II_tpamp', \n",
    "       'II_pparea', 'II_tparea', 'II_rpdur', 'II_spdur', 'II_tpdur']\n",
    "\n",
    "\n",
    "for i in range(len(cars)):\n",
    "    hipo = (leads_anon_DF_limpio[(leads_anon_DF_limpio['categoria'] == 0)| (leads_anon_DF_limpio['categoria'] == 1)]['categoria'])\n",
    "    hiper = (leads_anon_DF_limpio[(leads_anon_DF_limpio['categoria'] == 0)| (leads_anon_DF_limpio['categoria'] == 2)]['categoria'])\n",
    "    \n",
    "    car = leads_anon_DF_limpio[[cars[i]]].dropna()\n",
    "    car[cars[i]] = car[cars[i]].apply(lambda x: 1 if x != 0 else 0)\n",
    "    car_val = car[cars[i]]\n",
    "\n",
    "    tabla_hipo = pd.crosstab(hipo, car_val)\n",
    "    tabla_hiper = pd.crosstab(hiper, car_val)\n",
    "    chi_hipo, p_hipo, _, _ = chi2_contingency(tabla_hipo)\n",
    "    chi_hiper, p_hiper, _, _ = chi2_contingency(tabla_hiper)\n",
    "    \n",
    "    print('---------------------------------')\n",
    "    print(f'{cars[i]} - Hipo')\n",
    "    print(tabla_hipo)\n",
    "    print(f\"Estadístico de chi cuadrado: {chi_hipo}\")\n",
    "    print(f\"Valor p: {p_hipo}\")\n",
    "    print('---------------------------------')\n",
    "    print(f' ')\n",
    "    print(f'{cars[i]} - Hiper')\n",
    "    print(tabla_hiper)\n",
    "    print(f\"Estadístico de chi cuadrado: {chi_hiper}\")\n",
    "    print(f\"Valor p: {p_hiper}\")\n",
    "    print('---------------------------------')\n",
    "    print(f' ')"
   ]
  },
  {
   "cell_type": "code",
   "execution_count": 78,
   "id": "abfb1ec5",
   "metadata": {},
   "outputs": [
    {
     "name": "stdout",
     "output_type": "stream",
     "text": [
      "AUC: 0.5171606199965934\n",
      "AUC: 0.5303185147334355\n"
     ]
    }
   ],
   "source": [
    "x = leads_anon_DF_limpio[leads_anon_DF_limpio['categoria'] != 2]\n",
    "y = x['categoria'].astype(int)\n",
    "\n",
    "estratificacion_log = x[['categoria', 'Sexo']]\n",
    "\n",
    "x_train, x_test, y_train, y_test = train_test_split(x, y, test_size=0.2, random_state=1, stratify=estratificacion_log)\n",
    "\n",
    "arbol = DecisionTreeClassifier(class_weight=\"balanced\")\n",
    "\n",
    "cars = ['II_ppamp', 'II_pparea']\n",
    "\n",
    "for i in range(len(cars)):\n",
    "    train = x_train[[cars[i]]].dropna()\n",
    "    test = x_test[[cars[i]]].dropna()\n",
    "    train[cars[i]] = train[cars[i]].apply(lambda x: 1 if x != 0 else 0)\n",
    "    test[cars[i]] = test[cars[i]].apply(lambda x: 1 if x != 0 else 0)\n",
    "\n",
    "    arbol.fit(train, y_train)\n",
    "    pred_prob = arbol.predict_proba(test)\n",
    "    print(f\"AUC: {roc_auc_score(y_test, pred_prob[:, 1], average=None)}\")"
   ]
  },
  {
   "cell_type": "code",
   "execution_count": 148,
   "id": "61da8eeb",
   "metadata": {},
   "outputs": [],
   "source": [
    "pparea = leads_anon_DF_limpio.filter(regex='_pparea', axis=1)\n",
    "tparea = leads_anon_DF_limpio.filter(regex='_tparea', axis=1)\n",
    "\n",
    "ppamp = leads_anon_DF_limpio.filter(regex='_ppamp', axis=1)\n",
    "rpamp = leads_anon_DF_limpio.filter(regex='_rpamp', axis=1)\n",
    "spamp = leads_anon_DF_limpio.filter(regex='_spamp', axis=1)\n",
    "tpamp = leads_anon_DF_limpio.filter(regex='_tpamp', axis=1)\n",
    "\n",
    "rpdur = leads_anon_DF_limpio.filter(regex='_rpdur', axis=1)\n",
    "spdur = leads_anon_DF_limpio.filter(regex='_spdur', axis=1)\n",
    "tpdur = leads_anon_DF_limpio.filter(regex='_tpdur', axis=1)\n",
    "\n",
    "leads_anon_DF_limpio = leads_anon_DF_limpio.drop(columns=pparea.columns)\n",
    "leads_anon_DF_limpio = leads_anon_DF_limpio.drop(columns=tparea.columns)\n",
    "leads_anon_DF_limpio = leads_anon_DF_limpio.drop(columns=ppamp.columns)\n",
    "leads_anon_DF_limpio = leads_anon_DF_limpio.drop(columns=rpamp.columns)\n",
    "leads_anon_DF_limpio = leads_anon_DF_limpio.drop(columns=spamp.columns)\n",
    "leads_anon_DF_limpio = leads_anon_DF_limpio.drop(columns=tpamp.columns)\n",
    "leads_anon_DF_limpio = leads_anon_DF_limpio.drop(columns=rpdur.columns)\n",
    "leads_anon_DF_limpio = leads_anon_DF_limpio.drop(columns=spdur.columns)\n",
    "leads_anon_DF_limpio = leads_anon_DF_limpio.drop(columns=tpdur.columns)"
   ]
  },
  {
   "cell_type": "markdown",
   "id": "d3a794d7",
   "metadata": {},
   "source": [
    "---"
   ]
  },
  {
   "cell_type": "markdown",
   "id": "6a78158d",
   "metadata": {},
   "source": [
    "# Estadística descriptiva"
   ]
  },
  {
   "cell_type": "markdown",
   "id": "8cb9a17d",
   "metadata": {},
   "source": [
    "### Casos por sexo"
   ]
  },
  {
   "cell_type": "code",
   "execution_count": 115,
   "id": "0163e370",
   "metadata": {},
   "outputs": [
    {
     "data": {
      "image/png": "[encoded data removed]",
      "text/plain": [
       "<Figure size 1000x1000 with 1 Axes>"
      ]
     },
     "metadata": {},
     "output_type": "display_data"
    }
   ],
   "source": [
    "total_h = leads_anon_DF_limpio[leads_anon_DF_limpio['Sexo'] == 1]\n",
    "total_m = leads_anon_DF_limpio[leads_anon_DF_limpio['Sexo'] == 0]\n",
    "\n",
    "h_norm = total_h[total_h['categoria'] == 0]\n",
    "h_hipo = total_h[total_h['categoria'] == 1]\n",
    "h_hiper = total_h[total_h['categoria'] == 2]\n",
    "\n",
    "m_norm = total_m[total_m['categoria'] == 0]\n",
    "m_hipo = total_m[total_m['categoria'] == 1]\n",
    "m_hiper = total_m[total_m['categoria'] == 2]\n",
    "\n",
    "recuento = {\n",
    "    'Masculino': [len(total_h), len(h_norm), len(h_hipo), len(h_hiper)],\n",
    "    'Femenino': [len(total_m), len(m_norm), len(m_hipo), len(m_hiper)],\n",
    "}\n",
    "recuento_df = pd.DataFrame(recuento, index=['Total', 'Normalidad', 'Hipopotasemia', 'Hiperpotasemia'])\n",
    "\n",
    "colores = ['royalblue', 'tomato']\n",
    "ax = recuento_df.plot(kind='bar', figsize=(10, 10), width=0.8, color=colores)\n",
    "\n",
    "plt.ylabel('Nº ECGs', fontweight='bold')\n",
    "plt.xticks(rotation=0, fontweight='bold')\n",
    "\n",
    "for idx, p in enumerate(ax.patches):\n",
    "    # Calcular el porcentaje relativo a cada grupo (Masculino o Femenino)\n",
    "    total_grupo = sum(recuento_df.iloc[idx%4])  # Total de cada grupo (Masculino o Femenino)\n",
    "    percentage = '{:.1f}%'.format(100 * p.get_height() / total_grupo)\n",
    "    \n",
    "    # Añadir la etiqueta al gráfico\n",
    "    ax.annotate(percentage, \n",
    "                (p.get_x() + p.get_width() / 2., p.get_height()), \n",
    "                ha='center', va='center', xytext=(0, 10), \n",
    "                textcoords='offset points', fontsize=11,  fontweight='bold')\n",
    "    \n",
    "plt.axhspan(-0, 1450, facecolor='lightgray', alpha=0.3, zorder=-1)\n",
    "plt.gca().spines['top'].set_visible(False)\n",
    "plt.gca().spines['right'].set_visible(False)\n",
    "plt.gca().spines['left'].set_visible(False)\n",
    "plt.gca().spines['bottom'].set_visible(False)    \n",
    "\n",
    "plt.legend(loc='upper right', bbox_to_anchor=(1, 0.95))\n",
    "plt.show()"
   ]
  },
  {
   "cell_type": "markdown",
   "id": "affab815",
   "metadata": {},
   "source": [
    "### Casos por edad"
   ]
  },
  {
   "cell_type": "code",
   "execution_count": 116,
   "id": "9b8556a2",
   "metadata": {},
   "outputs": [
    {
     "data": {
      "image/png": "[encoded data removed]",
      "text/plain": [
       "<Figure size 800x800 with 1 Axes>"
      ]
     },
     "metadata": {},
     "output_type": "display_data"
    }
   ],
   "source": [
    "total = leads_anon_DF_limpio['Edad']\n",
    "normalidad = leads_anon_DF_limpio[leads_anon_DF_limpio['categoria'] == 0]['Edad']\n",
    "hipo = leads_anon_DF_limpio[leads_anon_DF_limpio['categoria'] == 1]['Edad']\n",
    "hiper = leads_anon_DF_limpio[leads_anon_DF_limpio['categoria'] == 2]['Edad']\n",
    "\n",
    "datos = [total, normalidad, hipo, hiper]\n",
    "\n",
    "plt.figure(figsize=(8, 8))\n",
    "plt.axhspan(0, 125, facecolor='lightgray', alpha=0.3)\n",
    "plt.boxplot(datos, patch_artist=True, boxprops=dict(facecolor=\"lightskyblue\", color='navy'), capprops=dict(color='navy'), whiskerprops=dict(color=\"navy\"),\n",
    "            flierprops=dict(color='navy', markeredgecolor='navy'), medianprops=dict(color='navy'))\n",
    "\n",
    "plt.gca().spines['bottom'].set_position(('outward', -20))\n",
    "\n",
    "plt.gca().spines['top'].set_visible(False)\n",
    "plt.gca().spines['right'].set_visible(False)\n",
    "plt.gca().spines['left'].set_visible(False)\n",
    "plt.gca().spines['bottom'].set_visible(False)\n",
    "\n",
    "for i in range(4):\n",
    "    q1 = int(np.percentile(datos[i], 25))\n",
    "    median = int(np.percentile(datos[i], 50))\n",
    "    q3 = int(np.percentile(datos[i], 75))\n",
    "    \n",
    "    # Coordenadas para colocar las etiquetas fuera de las cajas\n",
    "    x_coord = i + 1\n",
    "    y_offset = -25  # Ajuste vertical para separar las etiquetas del boxplot\n",
    "    \n",
    "    # Añadir texto con los cuantiles\n",
    "    plt.text(x_coord+0.25, y_offset+70, f'Q1: {q1}', ha='center', va='bottom', color='black', fontsize=11, fontweight='bold')\n",
    "    plt.text(x_coord+0.25, y_offset+80, f'Q3: {q3}', ha='center', va='bottom', color='black', fontsize=11, fontweight='bold')\n",
    "    plt.text(x_coord+0.25, y_offset+75, f'Q2: {median}', ha='center', va='bottom', color='black', fontsize=11, fontweight='bold')\n",
    "    \n",
    "plt.xticks([1, 2, 3, 4], ['Total', 'Normalidad', 'Hipopotasemia', 'Hiperpotasemia'], fontweight='bold')\n",
    "    \n",
    "plt.show()"
   ]
  },
  {
   "cell_type": "markdown",
   "id": "d03fb654",
   "metadata": {},
   "source": [
    "### Dsitribución según la concentración de potasio"
   ]
  },
  {
   "cell_type": "code",
   "execution_count": 117,
   "id": "c47f5438",
   "metadata": {},
   "outputs": [
    {
     "data": {
      "image/png": "[encoded data removed]",
      "text/plain": [
       "<Figure size 640x480 with 1 Axes>"
      ]
     },
     "metadata": {},
     "output_type": "display_data"
    }
   ],
   "source": [
    "potasio = leads_anon_DF_limpio['K']\n",
    "\n",
    "plt.hist(potasio, bins=50, edgecolor='navy', color='royalblue')\n",
    "plt.axhspan(0, 310, facecolor='lightgray', alpha=0.3, zorder=-1)\n",
    "\n",
    "plt.gca().spines['top'].set_visible(False)\n",
    "plt.gca().spines['right'].set_visible(False)\n",
    "plt.gca().spines['left'].set_visible(False)\n",
    "plt.gca().spines['bottom'].set_visible(False)\n",
    "\n",
    "plt.ylabel('Nº ECGs', fontweight='bold')\n",
    "plt.xticks(fontweight='bold')\n",
    "\n",
    "plt.show()"
   ]
  },
  {
   "cell_type": "markdown",
   "id": "b4f7474a",
   "metadata": {},
   "source": [
    "---"
   ]
  },
  {
   "cell_type": "markdown",
   "id": "c253f78f",
   "metadata": {},
   "source": [
    "# Test de diferencias"
   ]
  },
  {
   "cell_type": "markdown",
   "id": "149f60be",
   "metadata": {},
   "source": [
    "## Variables categóricas - chi-cuadrado"
   ]
  },
  {
   "cell_type": "markdown",
   "id": "833e7bc6",
   "metadata": {},
   "source": [
    "### Sexo"
   ]
  },
  {
   "cell_type": "code",
   "execution_count": 118,
   "id": "cdda1e05",
   "metadata": {},
   "outputs": [],
   "source": [
    "potasio = leads_anon_DF_limpio['categoria']\n",
    "\n",
    "tabla = pd.crosstab(potasio, leads_anon_DF_limpio['Sexo'])\n",
    "chi2, p, _, _ = chi2_contingency(tabla)"
   ]
  },
  {
   "cell_type": "code",
   "execution_count": 119,
   "id": "88748ed5",
   "metadata": {},
   "outputs": [
    {
     "data": {
      "text/html": [
       "<div>\n",
       "<style scoped>\n",
       "    .dataframe tbody tr th:only-of-type {\n",
       "        vertical-align: middle;\n",
       "    }\n",
       "\n",
       "    .dataframe tbody tr th {\n",
       "        vertical-align: top;\n",
       "    }\n",
       "\n",
       "    .dataframe thead th {\n",
       "        text-align: right;\n",
       "    }\n",
       "</style>\n",
       "<table border=\"1\" class=\"dataframe\">\n",
       "  <thead>\n",
       "    <tr style=\"text-align: right;\">\n",
       "      <th>Sexo</th>\n",
       "      <th>0.0</th>\n",
       "      <th>1.0</th>\n",
       "    </tr>\n",
       "    <tr>\n",
       "      <th>categoria</th>\n",
       "      <th></th>\n",
       "      <th></th>\n",
       "    </tr>\n",
       "  </thead>\n",
       "  <tbody>\n",
       "    <tr>\n",
       "      <th>0.0</th>\n",
       "      <td>661</td>\n",
       "      <td>883</td>\n",
       "    </tr>\n",
       "    <tr>\n",
       "      <th>1.0</th>\n",
       "      <td>106</td>\n",
       "      <td>83</td>\n",
       "    </tr>\n",
       "    <tr>\n",
       "      <th>2.0</th>\n",
       "      <td>315</td>\n",
       "      <td>435</td>\n",
       "    </tr>\n",
       "  </tbody>\n",
       "</table>\n",
       "</div>"
      ],
      "text/plain": [
       "Sexo       0.0  1.0\n",
       "categoria          \n",
       "0.0        661  883\n",
       "1.0        106   83\n",
       "2.0        315  435"
      ]
     },
     "execution_count": 119,
     "metadata": {},
     "output_type": "execute_result"
    }
   ],
   "source": [
    "tabla"
   ]
  },
  {
   "cell_type": "markdown",
   "id": "ab901777",
   "metadata": {},
   "source": [
    "#### Normalidad"
   ]
  },
  {
   "cell_type": "code",
   "execution_count": 133,
   "id": "23773cf5",
   "metadata": {},
   "outputs": [
    {
     "name": "stdout",
     "output_type": "stream",
     "text": [
      "Sexo       0.0  1.0\n",
      "categoria          \n",
      "0          661  883\n",
      "1          421  518\n",
      "Estadístico de chi cuadrado: 0.8923171818472151\n",
      "Valor p: 0.3448501451980126\n"
     ]
    }
   ],
   "source": [
    "total = leads_anon_DF_limpio\n",
    "total['categoria'] = total['categoria'].apply(lambda x: 1 if x > 0 else 0)\n",
    "\n",
    "tabla = pd.crosstab(total['categoria'], total['Sexo'])\n",
    "chi2, p, _, _ = chi2_contingency(tabla)\n",
    "\n",
    "print(tabla)\n",
    "print(f\"Estadístico de chi cuadrado: {chi2}\")\n",
    "print(f\"Valor p: {p}\")"
   ]
  },
  {
   "cell_type": "markdown",
   "id": "bc23fc79",
   "metadata": {},
   "source": [
    "#### Hipopotasemia"
   ]
  },
  {
   "cell_type": "code",
   "execution_count": 120,
   "id": "c78145c2",
   "metadata": {},
   "outputs": [
    {
     "name": "stdout",
     "output_type": "stream",
     "text": [
      "Sexo       0.0  1.0\n",
      "categoria          \n",
      "0.0        661  883\n",
      "1.0        106   83\n",
      "Estadístico de chi cuadrado: 11.494052530573605\n",
      "Valor p: 0.0006981923990354837\n"
     ]
    }
   ],
   "source": [
    "potasio = (leads_anon_DF_limpio[(leads_anon_DF_limpio['categoria'] == 0)| (leads_anon_DF_limpio['categoria'] == 1)]['categoria'])\n",
    "norm = leads_anon_DF_limpio[(leads_anon_DF_limpio['categoria'] == 0)]\n",
    "hipo = leads_anon_DF_limpio[(leads_anon_DF_limpio['categoria'] == 1)]\n",
    "\n",
    "tabla = pd.crosstab(potasio, leads_anon_DF_limpio['Sexo'])\n",
    "chi2, p, _, _ = chi2_contingency(tabla)\n",
    "\n",
    "print(tabla)\n",
    "print(f\"Estadístico de chi cuadrado: {chi2}\")\n",
    "print(f\"Valor p: {p}\")"
   ]
  },
  {
   "cell_type": "code",
   "execution_count": 121,
   "id": "a4b60d0a",
   "metadata": {},
   "outputs": [
    {
     "name": "stdout",
     "output_type": "stream",
     "text": [
      "Riesgo relativo: 1.6084572972463516\n"
     ]
    }
   ],
   "source": [
    "h_norm = len(norm[norm['Sexo'] == 1])\n",
    "h_hipo = len(hipo[hipo['Sexo'] == 1])\n",
    "m_norm = len(norm[norm['Sexo'] == 0])\n",
    "m_hipo = len(hipo[hipo['Sexo'] == 0])\n",
    "\n",
    "print(f'Riesgo relativo: {((m_hipo)/(m_hipo+m_norm))/((h_hipo)/(h_hipo+h_norm))}')"
   ]
  },
  {
   "cell_type": "markdown",
   "id": "0d40791f",
   "metadata": {},
   "source": [
    "#### Hiperpotasemia"
   ]
  },
  {
   "cell_type": "code",
   "execution_count": 122,
   "id": "d26b272c",
   "metadata": {},
   "outputs": [
    {
     "name": "stdout",
     "output_type": "stream",
     "text": [
      "Sexo       0.0  1.0\n",
      "categoria          \n",
      "0.0        661  883\n",
      "2.0        315  435\n",
      "Estadístico de chi cuadrado: 0.10463819173161724\n",
      "Valor p: 0.7463330610460206\n"
     ]
    }
   ],
   "source": [
    "potasio = (leads_anon_DF_limpio[(leads_anon_DF_limpio['categoria'] == 0)| (leads_anon_DF_limpio['categoria'] == 2)]['categoria'])\n",
    "norm = leads_anon_DF_limpio[(leads_anon_DF_limpio['categoria'] == 0)]\n",
    "hiper = leads_anon_DF_limpio[(leads_anon_DF_limpio['categoria'] == 2)]\n",
    "\n",
    "tabla = pd.crosstab(potasio, leads_anon_DF_limpio['Sexo'])\n",
    "chi2, p, _, _ = chi2_contingency(tabla)\n",
    "\n",
    "print(tabla)\n",
    "print(f\"Estadístico de chi cuadrado: {chi2}\")\n",
    "print(f\"Valor p: {p}\")"
   ]
  },
  {
   "cell_type": "code",
   "execution_count": 123,
   "id": "bd37cbc8",
   "metadata": {},
   "outputs": [
    {
     "name": "stdout",
     "output_type": "stream",
     "text": [
      "Riesgo relativo: 0.9778829847371395\n"
     ]
    }
   ],
   "source": [
    "h_norm = len(norm[norm['Sexo'] == 1])\n",
    "h_hiper = len(hiper[hiper['Sexo'] == 1])\n",
    "m_norm = len(norm[norm['Sexo'] == 0])\n",
    "m_hiper = len(hiper[hiper['Sexo'] == 0])\n",
    "\n",
    "print(f'Riesgo relativo: {((m_hiper)/(m_hiper+m_norm))/((h_hiper)/(h_hiper+h_norm))}')"
   ]
  },
  {
   "cell_type": "markdown",
   "id": "45cacad9",
   "metadata": {},
   "source": [
    "### Edad"
   ]
  },
  {
   "cell_type": "markdown",
   "id": "629569eb",
   "metadata": {},
   "source": [
    "#### Normalidad"
   ]
  },
  {
   "cell_type": "code",
   "execution_count": 136,
   "id": "7290b11b",
   "metadata": {},
   "outputs": [
    {
     "name": "stdout",
     "output_type": "stream",
     "text": [
      "GrupoEdad  10-30  31-50  51-70  71-90  91-110\n",
      "categoria                                    \n",
      "0             14    117    439    785     189\n",
      "1              4     41    241    508     145\n",
      "Estadístico de chi cuadrado: 18.595279246720995\n",
      "Valor p: 0.0009436785987967774\n"
     ]
    }
   ],
   "source": [
    "total = leads_anon_DF_limpio\n",
    "total['categoria'] = total['categoria'].apply(lambda x: 1 if x > 0 else 0)\n",
    "\n",
    "tabla = pd.crosstab(total['categoria'], total['GrupoEdad'])\n",
    "chi2, p, _, _ = chi2_contingency(tabla)\n",
    "\n",
    "print(tabla)\n",
    "print(f\"Estadístico de chi cuadrado: {chi2}\")\n",
    "print(f\"Valor p: {p}\")"
   ]
  },
  {
   "cell_type": "code",
   "execution_count": 137,
   "id": "7364f113",
   "metadata": {},
   "outputs": [
    {
     "data": {
      "text/plain": [
       "GrupoEdad\n",
       "10-30     0.222222\n",
       "31-50     0.259494\n",
       "51-70     0.354412\n",
       "71-90     0.392885\n",
       "91-110    0.434132\n",
       "Name: 1, dtype: float64"
      ]
     },
     "execution_count": 137,
     "metadata": {},
     "output_type": "execute_result"
    }
   ],
   "source": [
    "proporcion = tabla.div(tabla.sum(axis=0), axis=1)\n",
    "proporcion.iloc[1]"
   ]
  },
  {
   "cell_type": "markdown",
   "id": "23ef1240",
   "metadata": {},
   "source": [
    "#### Hipopotasemia"
   ]
  },
  {
   "cell_type": "code",
   "execution_count": 124,
   "id": "ed28a4b1",
   "metadata": {},
   "outputs": [
    {
     "name": "stdout",
     "output_type": "stream",
     "text": [
      "GrupoEdad  10-30  31-50  51-70  71-90  91-110\n",
      "categoria                                    \n",
      "0.0           14    117    439    785     189\n",
      "1.0            0      8     42    113      26\n",
      "Estadístico de chi cuadrado: 9.578391823500375\n",
      "Valor p: 0.048161154545178615\n"
     ]
    }
   ],
   "source": [
    "potasio = (leads_anon_DF_limpio[(leads_anon_DF_limpio['categoria'] == 0)| (leads_anon_DF_limpio['categoria'] == 1)]['categoria'])\n",
    "norm = leads_anon_DF_limpio[(leads_anon_DF_limpio['categoria'] == 0)]\n",
    "hipo = leads_anon_DF_limpio[(leads_anon_DF_limpio['categoria'] == 1)]\n",
    "\n",
    "tabla = pd.crosstab(potasio, leads_anon_DF_limpio['GrupoEdad'])\n",
    "chi2, p, _, _ = chi2_contingency(tabla)\n",
    "\n",
    "print(tabla)\n",
    "print(f\"Estadístico de chi cuadrado: {chi2}\")\n",
    "print(f\"Valor p: {p}\")"
   ]
  },
  {
   "cell_type": "code",
   "execution_count": 125,
   "id": "ecf71d17",
   "metadata": {},
   "outputs": [
    {
     "data": {
      "text/plain": [
       "GrupoEdad\n",
       "10-30     0.000000\n",
       "31-50     0.064000\n",
       "51-70     0.087318\n",
       "71-90     0.125835\n",
       "91-110    0.120930\n",
       "Name: 1.0, dtype: float64"
      ]
     },
     "execution_count": 125,
     "metadata": {},
     "output_type": "execute_result"
    }
   ],
   "source": [
    "proporcion = tabla.div(tabla.sum(axis=0), axis=1)\n",
    "proporcion.iloc[1]"
   ]
  },
  {
   "cell_type": "markdown",
   "id": "7bd6fcca",
   "metadata": {},
   "source": [
    "#### Hiperpotasemia"
   ]
  },
  {
   "cell_type": "code",
   "execution_count": 126,
   "id": "6063ddd5",
   "metadata": {},
   "outputs": [
    {
     "name": "stdout",
     "output_type": "stream",
     "text": [
      "GrupoEdad  10-30  31-50  51-70  71-90  91-110\n",
      "categoria                                    \n",
      "0.0           14    117    439    785     189\n",
      "2.0            4     33    199    395     119\n",
      "Estadístico de chi cuadrado: 14.616613676962363\n",
      "Valor p: 0.005566153710679231\n"
     ]
    }
   ],
   "source": [
    "potasio = (leads_anon_DF_limpio[(leads_anon_DF_limpio['categoria'] == 0)| (leads_anon_DF_limpio['categoria'] == 2)]['categoria'])\n",
    "norm = leads_anon_DF_limpio[(leads_anon_DF_limpio['categoria'] == 0)]\n",
    "hiper = leads_anon_DF_limpio[(leads_anon_DF_limpio['categoria'] == 2)]\n",
    "\n",
    "tabla = pd.crosstab(potasio, leads_anon_DF_limpio['GrupoEdad'])\n",
    "chi2, p, _, _ = chi2_contingency(tabla)\n",
    "\n",
    "print(tabla)\n",
    "print(f\"Estadístico de chi cuadrado: {chi2}\")\n",
    "print(f\"Valor p: {p}\")"
   ]
  },
  {
   "cell_type": "code",
   "execution_count": 127,
   "id": "6c24a01b",
   "metadata": {},
   "outputs": [
    {
     "data": {
      "text/plain": [
       "GrupoEdad\n",
       "10-30     0.222222\n",
       "31-50     0.220000\n",
       "51-70     0.311912\n",
       "71-90     0.334746\n",
       "91-110    0.386364\n",
       "Name: 2.0, dtype: float64"
      ]
     },
     "execution_count": 127,
     "metadata": {},
     "output_type": "execute_result"
    }
   ],
   "source": [
    "proporcion = tabla.div(tabla.sum(axis=0), axis=1)\n",
    "proporcion.iloc[1]"
   ]
  },
  {
   "cell_type": "markdown",
   "id": "9eae0286",
   "metadata": {},
   "source": [
    "---"
   ]
  },
  {
   "cell_type": "markdown",
   "id": "b38d03e6",
   "metadata": {},
   "source": [
    "## Variables continuas (artículo)"
   ]
  },
  {
   "cell_type": "markdown",
   "id": "bcd29bbc",
   "metadata": {},
   "source": [
    "### Hipopotasemia"
   ]
  },
  {
   "cell_type": "markdown",
   "id": "5b1459ee",
   "metadata": {},
   "source": [
    "#### Menor amplitud de onda T"
   ]
  },
  {
   "cell_type": "code",
   "execution_count": 9,
   "id": "6aec4041",
   "metadata": {},
   "outputs": [
    {
     "name": "stdout",
     "output_type": "stream",
     "text": [
      "p-valor normalidad: 0.0009999999999998899\n",
      "p-valor hipopotasemia: 0.010372323659776589\n"
     ]
    }
   ],
   "source": [
    "_, p_valor_n = sm.stats.diagnostic.lilliefors(leads_anon_DF_limpio[leads_anon_DF_limpio['categoria'] == 0]['II_tamp'])\n",
    "_, p_valor_h = sm.stats.diagnostic.lilliefors(leads_anon_DF_limpio[leads_anon_DF_limpio['categoria'] == 1]['II_tamp'])\n",
    "\n",
    "print(f'p-valor normalidad: {p_valor_n}')\n",
    "print(f'p-valor hipopotasemia: {p_valor_h}')"
   ]
  },
  {
   "cell_type": "code",
   "execution_count": 149,
   "id": "f2308310",
   "metadata": {},
   "outputs": [
    {
     "name": "stdout",
     "output_type": "stream",
     "text": [
      "P-valor: 8.843516927574766e-05\n",
      "Media normalidad: 135.0\n",
      "Media hipopotasemia: 89.0\n"
     ]
    }
   ],
   "source": [
    "norm = leads_anon_DF_limpio[leads_anon_DF_limpio['categoria'] == 0]['II_tamp']\n",
    "hipo = leads_anon_DF_limpio[leads_anon_DF_limpio['categoria'] == 1]['II_tamp']\n",
    "\n",
    "_, p_valor = mannwhitneyu(norm, hipo, nan_policy='omit')\n",
    "print(f'P-valor: {p_valor}')\n",
    "print(f'Media normalidad: {np.median(norm)}')\n",
    "print(f'Media hipopotasemia: {np.median(hipo)}')"
   ]
  },
  {
   "cell_type": "markdown",
   "id": "25e98716",
   "metadata": {},
   "source": [
    "#### Depresión del segmento ST"
   ]
  },
  {
   "cell_type": "code",
   "execution_count": 171,
   "id": "7aadb1c5",
   "metadata": {},
   "outputs": [
    {
     "name": "stdout",
     "output_type": "stream",
     "text": [
      "p-valor normalidad: 0.0009999999999998899\n",
      "p-valor hipopotasemia: 0.0009999999999998899\n"
     ]
    }
   ],
   "source": [
    "_, p_valor_n = sm.stats.diagnostic.lilliefors(leads_anon_DF_limpio[leads_anon_DF_limpio['categoria'] == 0]['II_stslope'])\n",
    "_, p_valor_h = sm.stats.diagnostic.lilliefors(leads_anon_DF_limpio[leads_anon_DF_limpio['categoria'] == 1]['II_stslope'])\n",
    "\n",
    "print(f'p-valor normalidad: {p_valor_n}')\n",
    "print(f'p-valor hipopotasemia: {p_valor_h}')"
   ]
  },
  {
   "cell_type": "code",
   "execution_count": 153,
   "id": "800d720f",
   "metadata": {},
   "outputs": [
    {
     "name": "stdout",
     "output_type": "stream",
     "text": [
      "P-valor: 1.2708996299106165e-06\n",
      "Media normalidad: 14.0\n",
      "Media hipopotasemia: -8.0\n"
     ]
    }
   ],
   "source": [
    "norm = leads_anon_DF_limpio[leads_anon_DF_limpio['categoria'] == 0]['II_stmid']\n",
    "hipo = leads_anon_DF_limpio[leads_anon_DF_limpio['categoria'] == 1]['II_stmid']\n",
    "\n",
    "_, p_valor = mannwhitneyu(norm, hipo)\n",
    "print(f'P-valor: {p_valor}')\n",
    "print(f'Media normalidad: {np.median(norm)}')\n",
    "print(f'Media hipopotasemia: {np.median(hipo)}')"
   ]
  },
  {
   "cell_type": "markdown",
   "id": "d936722b",
   "metadata": {},
   "source": [
    "#### Maior duración de QRS"
   ]
  },
  {
   "cell_type": "code",
   "execution_count": null,
   "id": "d0cc159a",
   "metadata": {},
   "outputs": [],
   "source": [
    "_, p_valor_n = sm.stats.diagnostic.lilliefors(leads_anon_DF_limpio[leads_anon_DF_limpio['categoria'] == 0]['II_qrsdur'])\n",
    "_, p_valor_h = sm.stats.diagnostic.lilliefors(leads_anon_DF_limpio[leads_anon_DF_limpio['categoria'] == 1]['II_qrsdur'])\n",
    "\n",
    "print(f'p-valor normalidad: {p_valor_n}')\n",
    "print(f'p-valor hipopotasemia: {p_valor_h}')"
   ]
  },
  {
   "cell_type": "code",
   "execution_count": 154,
   "id": "1836deca",
   "metadata": {},
   "outputs": [
    {
     "name": "stdout",
     "output_type": "stream",
     "text": [
      "P-valor: 0.6669055706218838\n",
      "Media normalidad: 90.0\n",
      "Media hipopotasemia: 92.0\n"
     ]
    }
   ],
   "source": [
    "norm = leads_anon_DF_limpio[leads_anon_DF_limpio['categoria'] == 0]['II_qrsdur']\n",
    "hipo = leads_anon_DF_limpio[leads_anon_DF_limpio['categoria'] == 1]['II_qrsdur']\n",
    "\n",
    "_, p_valor = mannwhitneyu(norm, hipo)\n",
    "print(f'P-valor: {p_valor}')\n",
    "print(f'Media normalidad: {np.median(norm)}')\n",
    "print(f'Media hipopotasemia: {np.median(hipo)}')"
   ]
  },
  {
   "cell_type": "markdown",
   "id": "156e0eb9",
   "metadata": {},
   "source": [
    "#### Maior amplitude de P"
   ]
  },
  {
   "cell_type": "code",
   "execution_count": null,
   "id": "0e9ccddc",
   "metadata": {},
   "outputs": [],
   "source": [
    "_, p_valor_n = sm.stats.diagnostic.lilliefors(leads_anon_DF_limpio[leads_anon_DF_limpio['categoria'] == 0]['II_qrsdur'])\n",
    "_, p_valor_h = sm.stats.diagnostic.lilliefors(leads_anon_DF_limpio[leads_anon_DF_limpio['categoria'] == 1]['II_qrsdur'])\n",
    "\n",
    "print(f'p-valor normalidad: {p_valor_n}')\n",
    "print(f'p-valor hipopotasemia: {p_valor_h}')"
   ]
  },
  {
   "cell_type": "code",
   "execution_count": 156,
   "id": "3b8e7f38",
   "metadata": {},
   "outputs": [
    {
     "name": "stdout",
     "output_type": "stream",
     "text": [
      "P-valor: 0.0013083476249772744\n",
      "Media normalidad: 90.0\n",
      "Media hipopotasemia: 70.0\n"
     ]
    }
   ],
   "source": [
    "norm = leads_anon_DF_limpio[leads_anon_DF_limpio['categoria'] == 0]['II_pamp']\n",
    "hipo = leads_anon_DF_limpio[leads_anon_DF_limpio['categoria'] == 1]['II_pamp']\n",
    "\n",
    "_, p_valor = mannwhitneyu(norm, hipo)\n",
    "print(f'P-valor: {p_valor}')\n",
    "print(f'Media normalidad: {np.median(norm)}')\n",
    "print(f'Media hipopotasemia: {np.median(hipo)}')"
   ]
  },
  {
   "cell_type": "code",
   "execution_count": 160,
   "id": "c5de7690",
   "metadata": {},
   "outputs": [
    {
     "name": "stdout",
     "output_type": "stream",
     "text": [
      "P-valor: 0.3929149189318092\n",
      "Media normalidad: 90.0\n",
      "Media hipopotasemia: 50.0\n"
     ]
    },
    {
     "data": {
      "text/plain": [
       "1"
      ]
     },
     "execution_count": 160,
     "metadata": {},
     "output_type": "execute_result"
    }
   ],
   "source": [
    "norm = leads_anon_DF_limpio[leads_anon_DF_limpio['categoria'] == 0]['II_pamp']\n",
    "hipo = leads_anon_DF_limpio[leads_anon_DF_limpio['K'] <= 2.5]['II_pamp']\n",
    "\n",
    "_, p_valor = mannwhitneyu(norm, hipo)\n",
    "print(f'P-valor: {p_valor}')\n",
    "print(f'Media normalidad: {np.median(norm)}')\n",
    "print(f'Media hipopotasemia: {np.median(hipo)}')"
   ]
  },
  {
   "cell_type": "markdown",
   "id": "118cd262",
   "metadata": {},
   "source": [
    "---"
   ]
  },
  {
   "cell_type": "markdown",
   "id": "405a7860",
   "metadata": {},
   "source": [
    "### Hiperpotasemia"
   ]
  },
  {
   "cell_type": "markdown",
   "id": "cda89d62",
   "metadata": {},
   "source": [
    "#### Ondas T más altas, picudas y anchas en la base"
   ]
  },
  {
   "cell_type": "code",
   "execution_count": 189,
   "id": "a5da5c77",
   "metadata": {},
   "outputs": [
    {
     "name": "stdout",
     "output_type": "stream",
     "text": [
      "p-valor normalidad: 0.0009999999999998899\n",
      "p-valor hipopotasemia: 0.0009999999999998899\n"
     ]
    }
   ],
   "source": [
    "_, p_valor_n = sm.stats.diagnostic.lilliefors(leads_anon_DF_limpio[leads_anon_DF_limpio['categoria'] == 0]['II_tamp'])\n",
    "_, p_valor_h = sm.stats.diagnostic.lilliefors(leads_anon_DF_limpio[leads_anon_DF_limpio['categoria'] == 2]['II_tamp'])\n",
    "\n",
    "print(f'p-valor normalidad: {p_valor_n}')\n",
    "print(f'p-valor hipopotasemia: {p_valor_h}')"
   ]
  },
  {
   "cell_type": "code",
   "execution_count": 164,
   "id": "33dc1936",
   "metadata": {},
   "outputs": [
    {
     "name": "stdout",
     "output_type": "stream",
     "text": [
      "P-valor: 0.3178609855118585\n",
      "Media normalidad: 135.0\n",
      "Media hiperpotasemia: 139.0\n"
     ]
    }
   ],
   "source": [
    "norm = leads_anon_DF_limpio[leads_anon_DF_limpio['categoria'] == 0]['II_tamp']\n",
    "hipo = leads_anon_DF_limpio[leads_anon_DF_limpio['categoria'] == 2]['II_tamp']\n",
    "\n",
    "_, p_valor = mannwhitneyu(norm, hipo, nan_policy='omit')\n",
    "print(f'P-valor: {p_valor}')\n",
    "print(f'Media normalidad: {np.nanmedian(norm)}')\n",
    "print(f'Media hiperpotasemia: {np.nanmedian(hipo)}')"
   ]
  },
  {
   "cell_type": "markdown",
   "id": "70505efd",
   "metadata": {},
   "source": [
    "#### Menor amplitud de la onda P"
   ]
  },
  {
   "cell_type": "code",
   "execution_count": 198,
   "id": "38da8d9d",
   "metadata": {},
   "outputs": [
    {
     "name": "stdout",
     "output_type": "stream",
     "text": [
      "p-valor normalidad: 0.0009999999999998899\n",
      "p-valor hipopotasemia: 0.0009999999999998899\n"
     ]
    }
   ],
   "source": [
    "_, p_valor_n = sm.stats.diagnostic.lilliefors(leads_anon_DF_limpio[leads_anon_DF_limpio['categoria'] == 0]['V2_pamp'])\n",
    "_, p_valor_h = sm.stats.diagnostic.lilliefors(leads_anon_DF_limpio[leads_anon_DF_limpio['categoria'] == 2]['V2_pamp'])\n",
    "\n",
    "print(f'p-valor normalidad: {p_valor_n}')\n",
    "print(f'p-valor hipopotasemia: {p_valor_h}')"
   ]
  },
  {
   "cell_type": "code",
   "execution_count": 166,
   "id": "bfc81531",
   "metadata": {},
   "outputs": [
    {
     "name": "stdout",
     "output_type": "stream",
     "text": [
      "P-valor: 0.44160645180664193\n",
      "Media normalidad: 90.0\n",
      "Media hipopotasemia: 88.0\n"
     ]
    }
   ],
   "source": [
    "norm = leads_anon_DF_limpio[leads_anon_DF_limpio['categoria'] == 0]['II_pamp']\n",
    "hipo = leads_anon_DF_limpio[leads_anon_DF_limpio['categoria'] == 2]['II_pamp']\n",
    "\n",
    "_, p_valor = mannwhitneyu(norm, hipo, nan_policy='omit')\n",
    "print(f'P-valor: {p_valor}')\n",
    "print(f'Media normalidad: {np.nanmedian(norm)}')\n",
    "print(f'Media hipopotasemia: {np.nanmedian(hipo)}')"
   ]
  },
  {
   "cell_type": "markdown",
   "id": "49d6e68f",
   "metadata": {},
   "source": [
    "#### Depresión del segmento ST"
   ]
  },
  {
   "cell_type": "code",
   "execution_count": 182,
   "id": "e6799f7c",
   "metadata": {},
   "outputs": [
    {
     "name": "stdout",
     "output_type": "stream",
     "text": [
      "p-valor normalidad: 0.0009999999999998899\n",
      "p-valor hiperpotasemia: 0.0009999999999998899\n"
     ]
    }
   ],
   "source": [
    "_, p_valor_n = sm.stats.diagnostic.lilliefors(leads_anon_DF_limpio[leads_anon_DF_limpio['categoria'] == 0]['II_stmid'])\n",
    "_, p_valor_h = sm.stats.diagnostic.lilliefors(leads_anon_DF_limpio[leads_anon_DF_limpio['categoria'] == 2]['II_stimd'])\n",
    "\n",
    "print(f'p-valor normalidad: {p_valor_n}')\n",
    "print(f'p-valor hiperpotasemia: {p_valor_h}')"
   ]
  },
  {
   "cell_type": "code",
   "execution_count": 167,
   "id": "56d304c5",
   "metadata": {},
   "outputs": [
    {
     "name": "stdout",
     "output_type": "stream",
     "text": [
      "P-valor: 0.6872113373962185\n",
      "Media normalidad: 14.0\n",
      "Media hipopotasemia: 10.0\n"
     ]
    }
   ],
   "source": [
    "norm = leads_anon_DF_limpio[leads_anon_DF_limpio['categoria'] == 0]['II_stmid']\n",
    "hipo = leads_anon_DF_limpio[leads_anon_DF_limpio['categoria'] == 2]['II_stmid']\n",
    "\n",
    "_, p_valor = mannwhitneyu(norm, hipo, nan_policy='omit')\n",
    "print(f'P-valor: {p_valor}')\n",
    "print(f'Media normalidad: {np.nanmedian(norm)}')\n",
    "print(f'Media hipopotasemia: {np.nanmedian(hipo)}')"
   ]
  },
  {
   "cell_type": "markdown",
   "id": "51f92047",
   "metadata": {},
   "source": [
    "---"
   ]
  }
 ],
 "metadata": {
  "kernelspec": {
   "display_name": "Python 3 (ipykernel)",
   "language": "python",
   "name": "python3"
  },
  "language_info": {
   "codemirror_mode": {
    "name": "ipython",
    "version": 3
   },
   "file_extension": ".py",
   "mimetype": "text/x-python",
   "name": "python",
   "nbconvert_exporter": "python",
   "pygments_lexer": "ipython3",
   "version": "3.11.5"
  }
 },
 "nbformat": 4,
 "nbformat_minor": 5
}
